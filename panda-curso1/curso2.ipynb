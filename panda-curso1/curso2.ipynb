{
 "cells": [
  {
   "cell_type": "code",
   "execution_count": 9,
   "id": "d533f496",
   "metadata": {},
   "outputs": [],
   "source": [
    "import pandas as pd"
   ]
  },
  {
   "cell_type": "code",
   "execution_count": 7,
   "id": "b052b7a7",
   "metadata": {},
   "outputs": [],
   "source": [
    "naranjas = pd.Series([3,4,9,2,6,10,200])"
   ]
  },
  {
   "cell_type": "code",
   "execution_count": 8,
   "id": "57c53a56",
   "metadata": {},
   "outputs": [
    {
     "name": "stdout",
     "output_type": "stream",
     "text": [
      "0      3\n",
      "1      4\n",
      "2      9\n",
      "3      2\n",
      "4      6\n",
      "5     10\n",
      "6    200\n",
      "dtype: int64\n"
     ]
    }
   ],
   "source": [
    "print(naranjas)"
   ]
  },
  {
   "cell_type": "code",
   "execution_count": null,
   "id": "8607b648",
   "metadata": {},
   "outputs": [],
   "source": []
  }
 ],
 "metadata": {
  "kernelspec": {
   "display_name": "Python 3 (ipykernel)",
   "language": "python",
   "name": "python3"
  },
  "language_info": {
   "codemirror_mode": {
    "name": "ipython",
    "version": 3
   },
   "file_extension": ".py",
   "mimetype": "text/x-python",
   "name": "python",
   "nbconvert_exporter": "python",
   "pygments_lexer": "ipython3",
   "version": "3.9.13"
  }
 },
 "nbformat": 4,
 "nbformat_minor": 5
}
