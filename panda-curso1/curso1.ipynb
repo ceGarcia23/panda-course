{
 "cells": [
  {
   "cell_type": "markdown",
   "id": "471b120f",
   "metadata": {},
   "source": [
    "## Hola, esto es un markdown prim."
   ]
  },
  {
   "cell_type": "code",
   "execution_count": 2,
   "id": "cf9afbab",
   "metadata": {},
   "outputs": [],
   "source": [
    "x = 30\n",
    "nombre =\"la cartuja\""
   ]
  },
  {
   "cell_type": "code",
   "execution_count": 3,
   "id": "5e4cea31",
   "metadata": {},
   "outputs": [
    {
     "data": {
      "text/plain": [
       "30"
      ]
     },
     "execution_count": 3,
     "metadata": {},
     "output_type": "execute_result"
    }
   ],
   "source": [
    "x"
   ]
  },
  {
   "cell_type": "code",
   "execution_count": 4,
   "id": "0e50a5b5",
   "metadata": {},
   "outputs": [
    {
     "data": {
      "text/plain": [
       "'la cartuja'"
      ]
     },
     "execution_count": 4,
     "metadata": {},
     "output_type": "execute_result"
    }
   ],
   "source": [
    "nombre"
   ]
  },
  {
   "cell_type": "code",
   "execution_count": 5,
   "id": "fbe22dae",
   "metadata": {},
   "outputs": [
    {
     "data": {
      "text/plain": [
       "40"
      ]
     },
     "execution_count": 5,
     "metadata": {},
     "output_type": "execute_result"
    }
   ],
   "source": [
    "x.__add__(10)"
   ]
  },
  {
   "cell_type": "code",
   "execution_count": 16,
   "id": "cc7d807f",
   "metadata": {},
   "outputs": [
    {
     "name": "stdout",
     "output_type": "stream",
     "text": [
      "{'uno': 30, 'dos': 40}\n"
     ]
    }
   ],
   "source": [
    "dictionary = {'uno': x, 'dos': x.__add__(10)};\n",
    "dictionary;\n",
    "print(dictionary)\n"
   ]
  },
  {
   "cell_type": "code",
   "execution_count": 18,
   "id": "cd5cb7e9",
   "metadata": {},
   "outputs": [
    {
     "name": "stdout",
     "output_type": "stream",
     "text": [
      "La Cartuja cuesta 30 pesos\n",
      " y el otro libro 40 pesos.\n"
     ]
    }
   ],
   "source": [
    "print(f\"{nombre.title()} cuesta {dictionary['uno']} pesos\\n y el otro libro {dictionary ['dos']} pesos.\")"
   ]
  },
  {
   "cell_type": "code",
   "execution_count": 19,
   "id": "a33e412d",
   "metadata": {},
   "outputs": [
    {
     "data": {
      "text/plain": [
       "['__abs__',\n",
       " '__add__',\n",
       " '__and__',\n",
       " '__bool__',\n",
       " '__ceil__',\n",
       " '__class__',\n",
       " '__delattr__',\n",
       " '__dir__',\n",
       " '__divmod__',\n",
       " '__doc__',\n",
       " '__eq__',\n",
       " '__float__',\n",
       " '__floor__',\n",
       " '__floordiv__',\n",
       " '__format__',\n",
       " '__ge__',\n",
       " '__getattribute__',\n",
       " '__getnewargs__',\n",
       " '__gt__',\n",
       " '__hash__',\n",
       " '__index__',\n",
       " '__init__',\n",
       " '__init_subclass__',\n",
       " '__int__',\n",
       " '__invert__',\n",
       " '__le__',\n",
       " '__lshift__',\n",
       " '__lt__',\n",
       " '__mod__',\n",
       " '__mul__',\n",
       " '__ne__',\n",
       " '__neg__',\n",
       " '__new__',\n",
       " '__or__',\n",
       " '__pos__',\n",
       " '__pow__',\n",
       " '__radd__',\n",
       " '__rand__',\n",
       " '__rdivmod__',\n",
       " '__reduce__',\n",
       " '__reduce_ex__',\n",
       " '__repr__',\n",
       " '__rfloordiv__',\n",
       " '__rlshift__',\n",
       " '__rmod__',\n",
       " '__rmul__',\n",
       " '__ror__',\n",
       " '__round__',\n",
       " '__rpow__',\n",
       " '__rrshift__',\n",
       " '__rshift__',\n",
       " '__rsub__',\n",
       " '__rtruediv__',\n",
       " '__rxor__',\n",
       " '__setattr__',\n",
       " '__sizeof__',\n",
       " '__str__',\n",
       " '__sub__',\n",
       " '__subclasshook__',\n",
       " '__truediv__',\n",
       " '__trunc__',\n",
       " '__xor__',\n",
       " 'as_integer_ratio',\n",
       " 'bit_length',\n",
       " 'conjugate',\n",
       " 'denominator',\n",
       " 'from_bytes',\n",
       " 'imag',\n",
       " 'numerator',\n",
       " 'real',\n",
       " 'to_bytes']"
      ]
     },
     "execution_count": 19,
     "metadata": {},
     "output_type": "execute_result"
    }
   ],
   "source": [
    "dir(x)"
   ]
  },
  {
   "cell_type": "code",
   "execution_count": 20,
   "id": "6a9d4262",
   "metadata": {},
   "outputs": [
    {
     "name": "stdout",
     "output_type": "stream",
     "text": [
      "Help on int object:\n",
      "\n",
      "class int(object)\n",
      " |  int([x]) -> integer\n",
      " |  int(x, base=10) -> integer\n",
      " |  \n",
      " |  Convert a number or string to an integer, or return 0 if no arguments\n",
      " |  are given.  If x is a number, return x.__int__().  For floating point\n",
      " |  numbers, this truncates towards zero.\n",
      " |  \n",
      " |  If x is not a number or if base is given, then x must be a string,\n",
      " |  bytes, or bytearray instance representing an integer literal in the\n",
      " |  given base.  The literal can be preceded by '+' or '-' and be surrounded\n",
      " |  by whitespace.  The base defaults to 10.  Valid bases are 0 and 2-36.\n",
      " |  Base 0 means to interpret the base from the string as an integer literal.\n",
      " |  >>> int('0b100', base=0)\n",
      " |  4\n",
      " |  \n",
      " |  Built-in subclasses:\n",
      " |      bool\n",
      " |  \n",
      " |  Methods defined here:\n",
      " |  \n",
      " |  __abs__(self, /)\n",
      " |      abs(self)\n",
      " |  \n",
      " |  __add__(self, value, /)\n",
      " |      Return self+value.\n",
      " |  \n",
      " |  __and__(self, value, /)\n",
      " |      Return self&value.\n",
      " |  \n",
      " |  __bool__(self, /)\n",
      " |      True if self else False\n",
      " |  \n",
      " |  __ceil__(...)\n",
      " |      Ceiling of an Integral returns itself.\n",
      " |  \n",
      " |  __divmod__(self, value, /)\n",
      " |      Return divmod(self, value).\n",
      " |  \n",
      " |  __eq__(self, value, /)\n",
      " |      Return self==value.\n",
      " |  \n",
      " |  __float__(self, /)\n",
      " |      float(self)\n",
      " |  \n",
      " |  __floor__(...)\n",
      " |      Flooring an Integral returns itself.\n",
      " |  \n",
      " |  __floordiv__(self, value, /)\n",
      " |      Return self//value.\n",
      " |  \n",
      " |  __format__(self, format_spec, /)\n",
      " |      Default object formatter.\n",
      " |  \n",
      " |  __ge__(self, value, /)\n",
      " |      Return self>=value.\n",
      " |  \n",
      " |  __getattribute__(self, name, /)\n",
      " |      Return getattr(self, name).\n",
      " |  \n",
      " |  __getnewargs__(self, /)\n",
      " |  \n",
      " |  __gt__(self, value, /)\n",
      " |      Return self>value.\n",
      " |  \n",
      " |  __hash__(self, /)\n",
      " |      Return hash(self).\n",
      " |  \n",
      " |  __index__(self, /)\n",
      " |      Return self converted to an integer, if self is suitable for use as an index into a list.\n",
      " |  \n",
      " |  __int__(self, /)\n",
      " |      int(self)\n",
      " |  \n",
      " |  __invert__(self, /)\n",
      " |      ~self\n",
      " |  \n",
      " |  __le__(self, value, /)\n",
      " |      Return self<=value.\n",
      " |  \n",
      " |  __lshift__(self, value, /)\n",
      " |      Return self<<value.\n",
      " |  \n",
      " |  __lt__(self, value, /)\n",
      " |      Return self<value.\n",
      " |  \n",
      " |  __mod__(self, value, /)\n",
      " |      Return self%value.\n",
      " |  \n",
      " |  __mul__(self, value, /)\n",
      " |      Return self*value.\n",
      " |  \n",
      " |  __ne__(self, value, /)\n",
      " |      Return self!=value.\n",
      " |  \n",
      " |  __neg__(self, /)\n",
      " |      -self\n",
      " |  \n",
      " |  __or__(self, value, /)\n",
      " |      Return self|value.\n",
      " |  \n",
      " |  __pos__(self, /)\n",
      " |      +self\n",
      " |  \n",
      " |  __pow__(self, value, mod=None, /)\n",
      " |      Return pow(self, value, mod).\n",
      " |  \n",
      " |  __radd__(self, value, /)\n",
      " |      Return value+self.\n",
      " |  \n",
      " |  __rand__(self, value, /)\n",
      " |      Return value&self.\n",
      " |  \n",
      " |  __rdivmod__(self, value, /)\n",
      " |      Return divmod(value, self).\n",
      " |  \n",
      " |  __repr__(self, /)\n",
      " |      Return repr(self).\n",
      " |  \n",
      " |  __rfloordiv__(self, value, /)\n",
      " |      Return value//self.\n",
      " |  \n",
      " |  __rlshift__(self, value, /)\n",
      " |      Return value<<self.\n",
      " |  \n",
      " |  __rmod__(self, value, /)\n",
      " |      Return value%self.\n",
      " |  \n",
      " |  __rmul__(self, value, /)\n",
      " |      Return value*self.\n",
      " |  \n",
      " |  __ror__(self, value, /)\n",
      " |      Return value|self.\n",
      " |  \n",
      " |  __round__(...)\n",
      " |      Rounding an Integral returns itself.\n",
      " |      Rounding with an ndigits argument also returns an integer.\n",
      " |  \n",
      " |  __rpow__(self, value, mod=None, /)\n",
      " |      Return pow(value, self, mod).\n",
      " |  \n",
      " |  __rrshift__(self, value, /)\n",
      " |      Return value>>self.\n",
      " |  \n",
      " |  __rshift__(self, value, /)\n",
      " |      Return self>>value.\n",
      " |  \n",
      " |  __rsub__(self, value, /)\n",
      " |      Return value-self.\n",
      " |  \n",
      " |  __rtruediv__(self, value, /)\n",
      " |      Return value/self.\n",
      " |  \n",
      " |  __rxor__(self, value, /)\n",
      " |      Return value^self.\n",
      " |  \n",
      " |  __sizeof__(self, /)\n",
      " |      Returns size in memory, in bytes.\n",
      " |  \n",
      " |  __sub__(self, value, /)\n",
      " |      Return self-value.\n",
      " |  \n",
      " |  __truediv__(self, value, /)\n",
      " |      Return self/value.\n",
      " |  \n",
      " |  __trunc__(...)\n",
      " |      Truncating an Integral returns itself.\n",
      " |  \n",
      " |  __xor__(self, value, /)\n",
      " |      Return self^value.\n",
      " |  \n",
      " |  as_integer_ratio(self, /)\n",
      " |      Return integer ratio.\n",
      " |      \n",
      " |      Return a pair of integers, whose ratio is exactly equal to the original int\n",
      " |      and with a positive denominator.\n",
      " |      \n",
      " |      >>> (10).as_integer_ratio()\n",
      " |      (10, 1)\n",
      " |      >>> (-10).as_integer_ratio()\n",
      " |      (-10, 1)\n",
      " |      >>> (0).as_integer_ratio()\n",
      " |      (0, 1)\n",
      " |  \n",
      " |  bit_length(self, /)\n",
      " |      Number of bits necessary to represent self in binary.\n",
      " |      \n",
      " |      >>> bin(37)\n",
      " |      '0b100101'\n",
      " |      >>> (37).bit_length()\n",
      " |      6\n",
      " |  \n",
      " |  conjugate(...)\n",
      " |      Returns self, the complex conjugate of any int.\n",
      " |  \n",
      " |  to_bytes(self, /, length, byteorder, *, signed=False)\n",
      " |      Return an array of bytes representing an integer.\n",
      " |      \n",
      " |      length\n",
      " |        Length of bytes object to use.  An OverflowError is raised if the\n",
      " |        integer is not representable with the given number of bytes.\n",
      " |      byteorder\n",
      " |        The byte order used to represent the integer.  If byteorder is 'big',\n",
      " |        the most significant byte is at the beginning of the byte array.  If\n",
      " |        byteorder is 'little', the most significant byte is at the end of the\n",
      " |        byte array.  To request the native byte order of the host system, use\n",
      " |        `sys.byteorder' as the byte order value.\n",
      " |      signed\n",
      " |        Determines whether two's complement is used to represent the integer.\n",
      " |        If signed is False and a negative integer is given, an OverflowError\n",
      " |        is raised.\n",
      " |  \n",
      " |  ----------------------------------------------------------------------\n",
      " |  Class methods defined here:\n",
      " |  \n",
      " |  from_bytes(bytes, byteorder, *, signed=False) from builtins.type\n",
      " |      Return the integer represented by the given array of bytes.\n",
      " |      \n",
      " |      bytes\n",
      " |        Holds the array of bytes to convert.  The argument must either\n",
      " |        support the buffer protocol or be an iterable object producing bytes.\n",
      " |        Bytes and bytearray are examples of built-in objects that support the\n",
      " |        buffer protocol.\n",
      " |      byteorder\n",
      " |        The byte order used to represent the integer.  If byteorder is 'big',\n",
      " |        the most significant byte is at the beginning of the byte array.  If\n",
      " |        byteorder is 'little', the most significant byte is at the end of the\n",
      " |        byte array.  To request the native byte order of the host system, use\n",
      " |        `sys.byteorder' as the byte order value.\n",
      " |      signed\n",
      " |        Indicates whether two's complement is used to represent the integer.\n",
      " |  \n",
      " |  ----------------------------------------------------------------------\n",
      " |  Static methods defined here:\n",
      " |  \n",
      " |  __new__(*args, **kwargs) from builtins.type\n",
      " |      Create and return a new object.  See help(type) for accurate signature.\n",
      " |  \n",
      " |  ----------------------------------------------------------------------\n",
      " |  Data descriptors defined here:\n",
      " |  \n",
      " |  denominator\n",
      " |      the denominator of a rational number in lowest terms\n",
      " |  \n",
      " |  imag\n",
      " |      the imaginary part of a complex number\n",
      " |  \n",
      " |  numerator\n",
      " |      the numerator of a rational number in lowest terms\n",
      " |  \n",
      " |  real\n",
      " |      the real part of a complex number\n",
      "\n"
     ]
    }
   ],
   "source": [
    "help(x)"
   ]
  },
  {
   "cell_type": "code",
   "execution_count": 21,
   "id": "4459b5f2",
   "metadata": {},
   "outputs": [
    {
     "data": {
      "text/plain": [
       "3"
      ]
     },
     "execution_count": 21,
     "metadata": {},
     "output_type": "execute_result"
    }
   ],
   "source": [
    "1 + 2"
   ]
  },
  {
   "cell_type": "code",
   "execution_count": 22,
   "id": "43465f39",
   "metadata": {},
   "outputs": [
    {
     "data": {
      "text/plain": [
       "10"
      ]
     },
     "execution_count": 22,
     "metadata": {},
     "output_type": "execute_result"
    }
   ],
   "source": [
    "2 * 5"
   ]
  },
  {
   "cell_type": "code",
   "execution_count": 23,
   "id": "cddc7c0c",
   "metadata": {},
   "outputs": [
    {
     "data": {
      "text/plain": [
       "3"
      ]
     },
     "execution_count": 23,
     "metadata": {},
     "output_type": "execute_result"
    }
   ],
   "source": [
    "x = 3\n",
    "x"
   ]
  },
  {
   "cell_type": "code",
   "execution_count": 24,
   "id": "2952ee77",
   "metadata": {},
   "outputs": [
    {
     "data": {
      "text/plain": [
       "11"
      ]
     },
     "execution_count": 24,
     "metadata": {},
     "output_type": "execute_result"
    }
   ],
   "source": [
    "x + x.__add__(5)"
   ]
  },
  {
   "cell_type": "code",
   "execution_count": 27,
   "id": "a05e3430",
   "metadata": {},
   "outputs": [
    {
     "data": {
      "text/plain": [
       "63"
      ]
     },
     "execution_count": 27,
     "metadata": {},
     "output_type": "execute_result"
    }
   ],
   "source": [
    "#int\n",
    "x2 = x.__add__(60)\n",
    "x2"
   ]
  },
  {
   "cell_type": "code",
   "execution_count": 43,
   "id": "37813cf7",
   "metadata": {},
   "outputs": [
    {
     "data": {
      "text/plain": [
       "float"
      ]
     },
     "execution_count": 43,
     "metadata": {},
     "output_type": "execute_result"
    }
   ],
   "source": [
    "#float\n",
    "y = 4.5\n",
    "y\n",
    "type(5.5)"
   ]
  },
  {
   "cell_type": "code",
   "execution_count": null,
   "id": "d981987b",
   "metadata": {},
   "outputs": [],
   "source": []
  },
  {
   "cell_type": "code",
   "execution_count": 41,
   "id": "afbc8dee",
   "metadata": {},
   "outputs": [
    {
     "data": {
      "text/plain": [
       "(1.0, 2.0)"
      ]
     },
     "execution_count": 41,
     "metadata": {},
     "output_type": "execute_result"
    }
   ],
   "source": [
    "#complex\n",
    "c = 1 + 2j;\n",
    "c\n",
    "c, type(c)\n",
    "parte_real = c.real\n",
    "parte_imaginaria = c.imag\n",
    "parte_real, parte_imaginaria\n"
   ]
  },
  {
   "cell_type": "code",
   "execution_count": 44,
   "id": "cf208c12",
   "metadata": {},
   "outputs": [
    {
     "data": {
      "text/plain": [
       "'This is a text'"
      ]
     },
     "execution_count": 44,
     "metadata": {},
     "output_type": "execute_result"
    }
   ],
   "source": [
    "\"This is a text\""
   ]
  },
  {
   "cell_type": "code",
   "execution_count": 45,
   "id": "1232d649",
   "metadata": {},
   "outputs": [
    {
     "data": {
      "text/plain": [
       "'this is a text 2'"
      ]
     },
     "execution_count": 45,
     "metadata": {},
     "output_type": "execute_result"
    }
   ],
   "source": [
    "'this is a text 2'"
   ]
  },
  {
   "cell_type": "code",
   "execution_count": 46,
   "id": "79e15b51",
   "metadata": {},
   "outputs": [
    {
     "data": {
      "text/plain": [
       "str"
      ]
     },
     "execution_count": 46,
     "metadata": {},
     "output_type": "execute_result"
    }
   ],
   "source": [
    "nombre = \"Carlos\"\n",
    "\n",
    "carrera = \"Magistrado técnico\"\n",
    "\n",
    "type(nombre)"
   ]
  },
  {
   "cell_type": "code",
   "execution_count": 49,
   "id": "ae8ecc27",
   "metadata": {},
   "outputs": [
    {
     "data": {
      "text/plain": [
       "'Magistrado técnico'"
      ]
     },
     "execution_count": 49,
     "metadata": {},
     "output_type": "execute_result"
    }
   ],
   "source": [
    "nombre\n",
    "carrera"
   ]
  },
  {
   "cell_type": "code",
   "execution_count": 50,
   "id": "3a9a9efe",
   "metadata": {},
   "outputs": [
    {
     "name": "stdout",
     "output_type": "stream",
     "text": [
      "Carlos\n",
      "Magistrado técnico\n"
     ]
    }
   ],
   "source": [
    "print(nombre);\n",
    "print(carrera);"
   ]
  },
  {
   "cell_type": "code",
   "execution_count": 51,
   "id": "833da886",
   "metadata": {},
   "outputs": [
    {
     "name": "stdout",
     "output_type": "stream",
     "text": [
      "una cadena\tseparada por una tabulacion\n"
     ]
    }
   ],
   "source": [
    "print(\"una cadena\\tseparada por una tabulacion\")"
   ]
  },
  {
   "cell_type": "code",
   "execution_count": 52,
   "id": "37d4ddb1",
   "metadata": {},
   "outputs": [
    {
     "name": "stdout",
     "output_type": "stream",
     "text": [
      "Una cade en una línea \n",
      " una cadena en otra línea\n"
     ]
    }
   ],
   "source": [
    "print(\"Una cade en una línea \\n una cadena en otra línea\")"
   ]
  },
  {
   "cell_type": "code",
   "execution_count": 58,
   "id": "e4923402",
   "metadata": {},
   "outputs": [
    {
     "name": "stdout",
     "output_type": "stream",
     "text": [
      "Líena 1 es ésta\n",
      "     y aquí tenemos la Linea 2\n",
      "     y esta es la 3\n",
      "     y asi...\n",
      "     asi...\n",
      "     al infinito\n"
     ]
    }
   ],
   "source": [
    "print(\"\"\"Líena 1 es ésta\n",
    "     y aquí tenemos la Linea 2\n",
    "     y esta es la 3\n",
    "     y asi...\n",
    "     asi...\n",
    "     al infinito\"\"\")"
   ]
  },
  {
   "cell_type": "code",
   "execution_count": 59,
   "id": "8e0428e8",
   "metadata": {},
   "outputs": [
    {
     "name": "stdout",
     "output_type": "stream",
     "text": [
      "c:\\nombre\\nombre_2\n"
     ]
    }
   ],
   "source": [
    "print(r\"c:\\nombre\\nombre_2\")"
   ]
  },
  {
   "cell_type": "code",
   "execution_count": 60,
   "id": "c34ad71d",
   "metadata": {},
   "outputs": [
    {
     "data": {
      "text/plain": [
       "True"
      ]
     },
     "execution_count": 60,
     "metadata": {},
     "output_type": "execute_result"
    }
   ],
   "source": [
    "##Booleans\n",
    "1 + 1 == 2"
   ]
  },
  {
   "cell_type": "code",
   "execution_count": 61,
   "id": "48c54e95",
   "metadata": {},
   "outputs": [
    {
     "data": {
      "text/plain": [
       "False"
      ]
     },
     "execution_count": 61,
     "metadata": {},
     "output_type": "execute_result"
    }
   ],
   "source": [
    "1 + 1 ==3"
   ]
  },
  {
   "cell_type": "code",
   "execution_count": 62,
   "id": "34f2565e",
   "metadata": {},
   "outputs": [
    {
     "data": {
      "text/plain": [
       "True"
      ]
     },
     "execution_count": 62,
     "metadata": {},
     "output_type": "execute_result"
    }
   ],
   "source": [
    "variable = True\n",
    "variable"
   ]
  },
  {
   "cell_type": "code",
   "execution_count": 63,
   "id": "99806de0",
   "metadata": {},
   "outputs": [],
   "source": [
    "var = False"
   ]
  },
  {
   "cell_type": "code",
   "execution_count": 64,
   "id": "0dc087e1",
   "metadata": {},
   "outputs": [
    {
     "data": {
      "text/plain": [
       "False"
      ]
     },
     "execution_count": 64,
     "metadata": {},
     "output_type": "execute_result"
    }
   ],
   "source": [
    "var"
   ]
  },
  {
   "cell_type": "code",
   "execution_count": 65,
   "id": "1b5858f9",
   "metadata": {},
   "outputs": [
    {
     "data": {
      "text/plain": [
       "False"
      ]
     },
     "execution_count": 65,
     "metadata": {},
     "output_type": "execute_result"
    }
   ],
   "source": [
    "2 == var"
   ]
  },
  {
   "cell_type": "code",
   "execution_count": 67,
   "id": "8aee9333",
   "metadata": {},
   "outputs": [
    {
     "data": {
      "text/plain": [
       "True"
      ]
     },
     "execution_count": 67,
     "metadata": {},
     "output_type": "execute_result"
    }
   ],
   "source": [
    "#logica proposicional en ptyhon\n",
    "#True and True = True\n",
    "(2 == 1 + 1) and (3 == 1 + 2 )"
   ]
  },
  {
   "cell_type": "code",
   "execution_count": 68,
   "id": "56a9f31b",
   "metadata": {
    "scrolled": true
   },
   "outputs": [
    {
     "data": {
      "text/plain": [
       "False"
      ]
     },
     "execution_count": 68,
     "metadata": {},
     "output_type": "execute_result"
    }
   ],
   "source": [
    "(2 == 1 + 1) and (5 == 1 + 2 )"
   ]
  },
  {
   "cell_type": "code",
   "execution_count": 69,
   "id": "4e7cf00b",
   "metadata": {},
   "outputs": [
    {
     "data": {
      "text/plain": [
       "bool"
      ]
     },
     "execution_count": 69,
     "metadata": {},
     "output_type": "execute_result"
    }
   ],
   "source": [
    "type(var)"
   ]
  },
  {
   "cell_type": "code",
   "execution_count": 70,
   "id": "b2c54d59",
   "metadata": {},
   "outputs": [
    {
     "name": "stdout",
     "output_type": "stream",
     "text": [
      "-1 <class 'int'>\n"
     ]
    }
   ],
   "source": [
    "#comprobación de tipos\n",
    "print(-1, type(-1))"
   ]
  },
  {
   "cell_type": "code",
   "execution_count": 71,
   "id": "d85c0e5f",
   "metadata": {},
   "outputs": [
    {
     "name": "stdout",
     "output_type": "stream",
     "text": [
      "3.1415 <class 'float'>\n"
     ]
    }
   ],
   "source": [
    "print(3.1415, type(3.1415))"
   ]
  },
  {
   "cell_type": "code",
   "execution_count": 72,
   "id": "0b2761db",
   "metadata": {},
   "outputs": [
    {
     "name": "stdout",
     "output_type": "stream",
     "text": [
      "Hello <class 'str'>\n"
     ]
    }
   ],
   "source": [
    "print(\"Hello\", type(\"Hello\"))"
   ]
  },
  {
   "cell_type": "code",
   "execution_count": 73,
   "id": "025c0963",
   "metadata": {},
   "outputs": [
    {
     "name": "stdout",
     "output_type": "stream",
     "text": [
      "True <class 'bool'>\n"
     ]
    }
   ],
   "source": [
    "print(True, type(True))"
   ]
  },
  {
   "cell_type": "code",
   "execution_count": 75,
   "id": "0811f38a",
   "metadata": {},
   "outputs": [
    {
     "name": "stdout",
     "output_type": "stream",
     "text": [
      "None <class 'NoneType'>\n"
     ]
    }
   ],
   "source": [
    "print(None, type(None))"
   ]
  },
  {
   "cell_type": "code",
   "execution_count": 77,
   "id": "73fc3429",
   "metadata": {},
   "outputs": [
    {
     "name": "stdout",
     "output_type": "stream",
     "text": [
      "<class 'int'>\n"
     ]
    }
   ],
   "source": [
    "#Conversión de tipos\n",
    "x = 2;\n",
    "print(type(x));"
   ]
  },
  {
   "cell_type": "code",
   "execution_count": 78,
   "id": "56cf5036",
   "metadata": {},
   "outputs": [
    {
     "name": "stdout",
     "output_type": "stream",
     "text": [
      "5 <class 'int'>\n"
     ]
    }
   ],
   "source": [
    "print(5, type(5))\n"
   ]
  },
  {
   "cell_type": "code",
   "execution_count": 79,
   "id": "6afe1bed",
   "metadata": {},
   "outputs": [
    {
     "name": "stdout",
     "output_type": "stream",
     "text": [
      "9.81 <class 'float'>\n"
     ]
    }
   ],
   "source": [
    "print(9.81, type(9.))"
   ]
  },
  {
   "cell_type": "code",
   "execution_count": 80,
   "id": "a4955f02",
   "metadata": {},
   "outputs": [
    {
     "name": "stdout",
     "output_type": "stream",
     "text": [
      "Hello <class 'str'>\n"
     ]
    }
   ],
   "source": [
    "print(\"Hello\", type(\"Hello\"))"
   ]
  },
  {
   "cell_type": "code",
   "execution_count": 81,
   "id": "acb14633",
   "metadata": {},
   "outputs": [
    {
     "name": "stdout",
     "output_type": "stream",
     "text": [
      "True <class 'bool'>\n"
     ]
    }
   ],
   "source": [
    "print(True, type(True))"
   ]
  },
  {
   "cell_type": "code",
   "execution_count": 83,
   "id": "530908ad",
   "metadata": {},
   "outputs": [
    {
     "name": "stdout",
     "output_type": "stream",
     "text": [
      "None <class 'NoneType'>\n"
     ]
    }
   ],
   "source": [
    "print(None, type(None))"
   ]
  },
  {
   "cell_type": "code",
   "execution_count": 84,
   "id": "82600a7c",
   "metadata": {},
   "outputs": [
    {
     "name": "stdout",
     "output_type": "stream",
     "text": [
      "<class 'int'>\n"
     ]
    }
   ],
   "source": [
    "#conversión \n",
    "x = 5\n",
    "print(type(x))"
   ]
  },
  {
   "cell_type": "code",
   "execution_count": 85,
   "id": "40f46c7d",
   "metadata": {},
   "outputs": [],
   "source": [
    "num_x =str(x)"
   ]
  },
  {
   "cell_type": "code",
   "execution_count": 87,
   "id": "827f603d",
   "metadata": {},
   "outputs": [
    {
     "name": "stdout",
     "output_type": "stream",
     "text": [
      "<class 'str'>\n"
     ]
    }
   ],
   "source": [
    "print(type(num_x))"
   ]
  },
  {
   "cell_type": "code",
   "execution_count": 88,
   "id": "a1664fcb",
   "metadata": {},
   "outputs": [],
   "source": [
    "#Incluo podemos convertir datos sin asignar variables"
   ]
  },
  {
   "cell_type": "code",
   "execution_count": 89,
   "id": "cee07f0d",
   "metadata": {},
   "outputs": [
    {
     "name": "stdout",
     "output_type": "stream",
     "text": [
      "9\n"
     ]
    }
   ],
   "source": [
    "print(int(9.81))"
   ]
  },
  {
   "cell_type": "code",
   "execution_count": 90,
   "id": "ecd218f6",
   "metadata": {},
   "outputs": [
    {
     "name": "stdout",
     "output_type": "stream",
     "text": [
      "9\n"
     ]
    }
   ],
   "source": [
    "print(str(9))"
   ]
  },
  {
   "cell_type": "code",
   "execution_count": 91,
   "id": "3e3eeccd",
   "metadata": {},
   "outputs": [
    {
     "name": "stdout",
     "output_type": "stream",
     "text": [
      "2\n"
     ]
    }
   ],
   "source": [
    "print(int(\"2\"))"
   ]
  },
  {
   "cell_type": "code",
   "execution_count": 92,
   "id": "5d063b63",
   "metadata": {
    "scrolled": true
   },
   "outputs": [
    {
     "name": "stdout",
     "output_type": "stream",
     "text": [
      "<class 'int'>\n"
     ]
    }
   ],
   "source": [
    "print(type(int(\"2\")))"
   ]
  },
  {
   "cell_type": "code",
   "execution_count": 93,
   "id": "2794a6a7",
   "metadata": {},
   "outputs": [
    {
     "name": "stdout",
     "output_type": "stream",
     "text": [
      "1 El siguiente dato es 0\n"
     ]
    }
   ],
   "source": [
    "print(int(True), \"El siguiente dato es\", int(False))"
   ]
  },
  {
   "cell_type": "code",
   "execution_count": 94,
   "id": "af36d8eb",
   "metadata": {},
   "outputs": [],
   "source": [
    "#Arithmetic operators"
   ]
  },
  {
   "cell_type": "code",
   "execution_count": 95,
   "id": "625fcc85",
   "metadata": {},
   "outputs": [
    {
     "data": {
      "text/plain": [
       "38.5"
      ]
     },
     "execution_count": 95,
     "metadata": {},
     "output_type": "execute_result"
    }
   ],
   "source": [
    "8 + 30.5"
   ]
  },
  {
   "cell_type": "code",
   "execution_count": 97,
   "id": "fd8a69a5",
   "metadata": {},
   "outputs": [],
   "source": [
    "# Adicción"
   ]
  },
  {
   "cell_type": "code",
   "execution_count": 98,
   "id": "13075467",
   "metadata": {},
   "outputs": [
    {
     "data": {
      "text/plain": [
       "38.5"
      ]
     },
     "execution_count": 98,
     "metadata": {},
     "output_type": "execute_result"
    }
   ],
   "source": [
    "8 + 30.5"
   ]
  },
  {
   "cell_type": "code",
   "execution_count": 99,
   "id": "84469960",
   "metadata": {},
   "outputs": [
    {
     "data": {
      "text/plain": [
       "14"
      ]
     },
     "execution_count": 99,
     "metadata": {},
     "output_type": "execute_result"
    }
   ],
   "source": [
    "7 + 7"
   ]
  },
  {
   "cell_type": "code",
   "execution_count": 100,
   "id": "5734082c",
   "metadata": {},
   "outputs": [
    {
     "data": {
      "text/plain": [
       "'HelloOne'"
      ]
     },
     "execution_count": 100,
     "metadata": {},
     "output_type": "execute_result"
    }
   ],
   "source": [
    "\"Hello\" + \"One\""
   ]
  },
  {
   "cell_type": "code",
   "execution_count": 102,
   "id": "7025b505",
   "metadata": {},
   "outputs": [
    {
     "data": {
      "text/plain": [
       "19"
      ]
     },
     "execution_count": 102,
     "metadata": {},
     "output_type": "execute_result"
    }
   ],
   "source": [
    "#Sustracción\n",
    "49 - 30"
   ]
  },
  {
   "cell_type": "code",
   "execution_count": 103,
   "id": "80300802",
   "metadata": {},
   "outputs": [
    {
     "data": {
      "text/plain": [
       "180"
      ]
     },
     "execution_count": 103,
     "metadata": {},
     "output_type": "execute_result"
    }
   ],
   "source": [
    "#multiplicación \n",
    "30*6"
   ]
  },
  {
   "cell_type": "code",
   "execution_count": 104,
   "id": "2e502026",
   "metadata": {},
   "outputs": [
    {
     "data": {
      "text/plain": [
       "20.5"
      ]
     },
     "execution_count": 104,
     "metadata": {},
     "output_type": "execute_result"
    }
   ],
   "source": [
    "2.5 * 8.2"
   ]
  },
  {
   "cell_type": "code",
   "execution_count": 105,
   "id": "883dcf42",
   "metadata": {},
   "outputs": [
    {
     "data": {
      "text/plain": [
       "'HelloHello'"
      ]
     },
     "execution_count": 105,
     "metadata": {},
     "output_type": "execute_result"
    }
   ],
   "source": [
    "\"Hello\"*2"
   ]
  },
  {
   "cell_type": "code",
   "execution_count": 106,
   "id": "95bd9f26",
   "metadata": {},
   "outputs": [
    {
     "data": {
      "text/plain": [
       "2.0"
      ]
     },
     "execution_count": 106,
     "metadata": {},
     "output_type": "execute_result"
    }
   ],
   "source": [
    "#División\n",
    "10/5"
   ]
  },
  {
   "cell_type": "code",
   "execution_count": 107,
   "id": "253743e9",
   "metadata": {},
   "outputs": [
    {
     "data": {
      "text/plain": [
       "2"
      ]
     },
     "execution_count": 107,
     "metadata": {},
     "output_type": "execute_result"
    }
   ],
   "source": [
    "10//5\n"
   ]
  },
  {
   "cell_type": "code",
   "execution_count": 108,
   "id": "e0df7255",
   "metadata": {},
   "outputs": [
    {
     "name": "stdout",
     "output_type": "stream",
     "text": [
      "1\n"
     ]
    }
   ],
   "source": [
    "print(5%2)\n"
   ]
  },
  {
   "cell_type": "code",
   "execution_count": 109,
   "id": "dd74c8e6",
   "metadata": {},
   "outputs": [
    {
     "data": {
      "text/plain": [
       "2.5"
      ]
     },
     "execution_count": 109,
     "metadata": {},
     "output_type": "execute_result"
    }
   ],
   "source": [
    "5/2"
   ]
  },
  {
   "cell_type": "code",
   "execution_count": 111,
   "id": "30786422",
   "metadata": {},
   "outputs": [
    {
     "data": {
      "text/plain": [
       "2"
      ]
     },
     "execution_count": 111,
     "metadata": {},
     "output_type": "execute_result"
    }
   ],
   "source": [
    "#División entera truncada\n",
    "5//2"
   ]
  },
  {
   "cell_type": "markdown",
   "id": "5b576588",
   "metadata": {},
   "source": [
    "###Módulo de residuo de la división"
   ]
  },
  {
   "cell_type": "code",
   "execution_count": null,
   "id": "73856ab4",
   "metadata": {},
   "outputs": [],
   "source": [
    "print(5%2)"
   ]
  },
  {
   "cell_type": "markdown",
   "id": "4eba5161",
   "metadata": {},
   "source": [
    "#Exponenciación\n",
    "#sigue la forma (a**b)\n"
   ]
  },
  {
   "cell_type": "code",
   "execution_count": 116,
   "id": "f932bc08",
   "metadata": {},
   "outputs": [
    {
     "data": {
      "text/plain": [
       "1024"
      ]
     },
     "execution_count": 116,
     "metadata": {},
     "output_type": "execute_result"
    }
   ],
   "source": [
    "4 ** 5"
   ]
  },
  {
   "cell_type": "markdown",
   "id": "11394aad",
   "metadata": {},
   "source": [
    "##OPERADORES DE ASIGNACIÓN"
   ]
  },
  {
   "cell_type": "code",
   "execution_count": 120,
   "id": "98ed2ddb",
   "metadata": {},
   "outputs": [
    {
     "name": "stdout",
     "output_type": "stream",
     "text": [
      "10\n"
     ]
    }
   ],
   "source": [
    "edad = 10\n",
    "print(edad)"
   ]
  },
  {
   "cell_type": "code",
   "execution_count": 121,
   "id": "1b41f066",
   "metadata": {},
   "outputs": [
    {
     "name": "stdout",
     "output_type": "stream",
     "text": [
      "7\n"
     ]
    }
   ],
   "source": [
    "edad = edad - 3\n",
    "print(edad)"
   ]
  },
  {
   "cell_type": "code",
   "execution_count": 125,
   "id": "75fad2fa",
   "metadata": {},
   "outputs": [
    {
     "name": "stdout",
     "output_type": "stream",
     "text": [
      "10\n",
      "7\n"
     ]
    }
   ],
   "source": [
    "edad =10\n",
    "print(edad)\n",
    "edad -=3\n",
    "print(edad)"
   ]
  },
  {
   "cell_type": "code",
   "execution_count": 126,
   "id": "9390d500",
   "metadata": {},
   "outputs": [
    {
     "name": "stdout",
     "output_type": "stream",
     "text": [
      "17\n"
     ]
    }
   ],
   "source": [
    "edad +=10\n",
    "print(edad)"
   ]
  },
  {
   "cell_type": "code",
   "execution_count": 127,
   "id": "69e4d3eb",
   "metadata": {},
   "outputs": [
    {
     "name": "stdout",
     "output_type": "stream",
     "text": [
      "3.4\n"
     ]
    }
   ],
   "source": [
    "edad /= 5\n",
    "print(edad)"
   ]
  },
  {
   "cell_type": "code",
   "execution_count": 128,
   "id": "f07fb137",
   "metadata": {},
   "outputs": [
    {
     "data": {
      "text/plain": [
       "2.8"
      ]
     },
     "execution_count": 128,
     "metadata": {},
     "output_type": "execute_result"
    }
   ],
   "source": [
    "14 / 5"
   ]
  },
  {
   "cell_type": "code",
   "execution_count": 129,
   "id": "987fffd1",
   "metadata": {},
   "outputs": [
    {
     "data": {
      "text/plain": [
       "3.4"
      ]
     },
     "execution_count": 129,
     "metadata": {},
     "output_type": "execute_result"
    }
   ],
   "source": [
    "17 / 5"
   ]
  },
  {
   "cell_type": "markdown",
   "id": "2a6b102e",
   "metadata": {},
   "source": [
    "OPERADORES LÓGICOS \n"
   ]
  },
  {
   "cell_type": "markdown",
   "id": "e8673dbd",
   "metadata": {},
   "source": [
    "AND\n"
   ]
  },
  {
   "cell_type": "code",
   "execution_count": 132,
   "id": "4daaf751",
   "metadata": {},
   "outputs": [
    {
     "data": {
      "text/plain": [
       "False"
      ]
     },
     "execution_count": 132,
     "metadata": {},
     "output_type": "execute_result"
    }
   ],
   "source": [
    "True and False "
   ]
  },
  {
   "cell_type": "code",
   "execution_count": 133,
   "id": "d358b055",
   "metadata": {},
   "outputs": [
    {
     "data": {
      "text/plain": [
       "True"
      ]
     },
     "execution_count": 133,
     "metadata": {},
     "output_type": "execute_result"
    }
   ],
   "source": [
    "True and True\n"
   ]
  },
  {
   "cell_type": "code",
   "execution_count": 134,
   "id": "ac8e09b7",
   "metadata": {},
   "outputs": [
    {
     "data": {
      "text/plain": [
       "False"
      ]
     },
     "execution_count": 134,
     "metadata": {},
     "output_type": "execute_result"
    }
   ],
   "source": [
    "False and False"
   ]
  },
  {
   "cell_type": "markdown",
   "id": "6049ae08",
   "metadata": {},
   "source": [
    "OR"
   ]
  },
  {
   "cell_type": "code",
   "execution_count": 135,
   "id": "4db793ee",
   "metadata": {},
   "outputs": [
    {
     "data": {
      "text/plain": [
       "True"
      ]
     },
     "execution_count": 135,
     "metadata": {},
     "output_type": "execute_result"
    }
   ],
   "source": [
    "True or False"
   ]
  },
  {
   "cell_type": "code",
   "execution_count": 136,
   "id": "70e0488c",
   "metadata": {},
   "outputs": [
    {
     "data": {
      "text/plain": [
       "True"
      ]
     },
     "execution_count": 136,
     "metadata": {},
     "output_type": "execute_result"
    }
   ],
   "source": [
    "True or True"
   ]
  },
  {
   "cell_type": "code",
   "execution_count": 137,
   "id": "b9e7b839",
   "metadata": {},
   "outputs": [
    {
     "data": {
      "text/plain": [
       "False"
      ]
     },
     "execution_count": 137,
     "metadata": {},
     "output_type": "execute_result"
    }
   ],
   "source": [
    "False or False"
   ]
  },
  {
   "cell_type": "markdown",
   "id": "22f0419d",
   "metadata": {},
   "source": [
    "NOT"
   ]
  },
  {
   "cell_type": "code",
   "execution_count": 138,
   "id": "319b4ded",
   "metadata": {},
   "outputs": [
    {
     "data": {
      "text/plain": [
       "False"
      ]
     },
     "execution_count": 138,
     "metadata": {},
     "output_type": "execute_result"
    }
   ],
   "source": [
    "not True"
   ]
  },
  {
   "cell_type": "code",
   "execution_count": 139,
   "id": "f2c1fa2a",
   "metadata": {},
   "outputs": [
    {
     "data": {
      "text/plain": [
       "True"
      ]
     },
     "execution_count": 139,
     "metadata": {},
     "output_type": "execute_result"
    }
   ],
   "source": [
    "not False"
   ]
  },
  {
   "cell_type": "markdown",
   "id": "cc48fc24",
   "metadata": {},
   "source": [
    "Operadores de comparación"
   ]
  },
  {
   "cell_type": "code",
   "execution_count": 142,
   "id": "11e0c06c",
   "metadata": {},
   "outputs": [
    {
     "name": "stdout",
     "output_type": "stream",
     "text": [
      "¿se cumple que 2 == 2?/n False\n"
     ]
    }
   ],
   "source": [
    "#Para porbar igualdad usamos el operador ==\n",
    "print(\"¿se cumple que 2 == 2?/n\", 2 == 3)"
   ]
  },
  {
   "cell_type": "code",
   "execution_count": 146,
   "id": "254ebf36",
   "metadata": {},
   "outputs": [
    {
     "name": "stdout",
     "output_type": "stream",
     "text": [
      "¿Se cumple que 2 !=2/n False\n",
      "¿Se cumple que 1 !=2/n True\n"
     ]
    }
   ],
   "source": [
    "#Para probar desigualdad se usa el operador !=\n",
    "print(\"¿Se cumple que 2 !=2/n\", 2 != 2)\n",
    "print(\"¿Se cumple que 1 !=2/n\", 1 != 2)"
   ]
  },
  {
   "cell_type": "markdown",
   "id": "55066593",
   "metadata": {},
   "source": [
    "Para comparar magnitudes usamos <,>,>=,<="
   ]
  },
  {
   "cell_type": "code",
   "execution_count": 148,
   "id": "d5666dab",
   "metadata": {},
   "outputs": [
    {
     "name": "stdout",
     "output_type": "stream",
     "text": [
      "¿Se cumple que 2 > 3/n False\n",
      "¿Se cumple que 2 < 3/n True\n",
      "¿Se cumple que 2 <= 3/n True\n",
      "¿Se cumple que 2 >= 3/n False\n"
     ]
    }
   ],
   "source": [
    "print(\"¿Se cumple que 2 > 3/n\", 2 > 3) \n",
    "print(\"¿Se cumple que 2 < 3/n\", 2 < 3)\n",
    "print(\"¿Se cumple que 2 <= 3/n\", 2 <= 3)\n",
    "print(\"¿Se cumple que 2 >= 3/n\", 2 >= 3)"
   ]
  },
  {
   "cell_type": "code",
   "execution_count": 149,
   "id": "4568079a",
   "metadata": {},
   "outputs": [
    {
     "name": "stdout",
     "output_type": "stream",
     "text": [
      "False /n True\n"
     ]
    }
   ],
   "source": [
    "print(\"c\" > \"d\", \"/n\", \"c\" > \"b\")"
   ]
  },
  {
   "cell_type": "code",
   "execution_count": 150,
   "id": "7b349814",
   "metadata": {},
   "outputs": [
    {
     "name": "stdout",
     "output_type": "stream",
     "text": [
      "False\n"
     ]
    }
   ],
   "source": [
    "print(\"casa\" > \"perro\")"
   ]
  },
  {
   "cell_type": "code",
   "execution_count": 151,
   "id": "3f2ef860",
   "metadata": {},
   "outputs": [
    {
     "name": "stdout",
     "output_type": "stream",
     "text": [
      "True\n"
     ]
    }
   ],
   "source": [
    "print(\"casa\" > \"cabra\")"
   ]
  },
  {
   "cell_type": "markdown",
   "id": "157f2d7c",
   "metadata": {},
   "source": [
    "Lectura de datos por teclado"
   ]
  },
  {
   "cell_type": "code",
   "execution_count": 156,
   "id": "67edfd17",
   "metadata": {},
   "outputs": [
    {
     "name": "stdout",
     "output_type": "stream",
     "text": [
      "Hello, OSCAR\n",
      "age: 25\n"
     ]
    }
   ],
   "source": [
    "nombre = \"OSCAR\"\n",
    "edad = 25\n",
    "print(\"Hello, \" + nombre)\n",
    "print(\"age:\", edad)"
   ]
  },
  {
   "cell_type": "code",
   "execution_count": 157,
   "id": "0135891d",
   "metadata": {},
   "outputs": [
    {
     "name": "stdout",
     "output_type": "stream",
     "text": [
      "ingrese su nombre: carlos\n",
      "ingrese su edad:25\n",
      "Hello, carlos\n",
      "Age: 25\n"
     ]
    }
   ],
   "source": [
    "nombre = input(\"ingrese su nombre: \")\n",
    "edad = input(\"ingrese su edad:\")\n",
    "print(\"Hello, \" + nombre)\n",
    "print(\"Age:\",  edad)"
   ]
  },
  {
   "cell_type": "code",
   "execution_count": 165,
   "id": "f46a8762",
   "metadata": {},
   "outputs": [
    {
     "name": "stdout",
     "output_type": "stream",
     "text": [
      "ingrese su nombre: car\n",
      "ingresar su edad: 25\n",
      "Ingrese su salario: 52\n",
      "Hello, car\n",
      "your age: 25\n",
      "your age in 20 year 45\n",
      "su salario es:  52.0\n"
     ]
    }
   ],
   "source": [
    "name = input(\"ingrese su nombre: \")\n",
    "age = int(input(\"ingresar su edad: \"))\n",
    "salary =float(input(\"Ingrese su salario: \"))\n",
    "print(\"Hello, \" + name)\n",
    "ageFuture = age + 20\n",
    "print(\"your age:\",  age)\n",
    "print(\"your age in 20 year\",  ageFuture)\n",
    "print(\"su salario es: \", salary)"
   ]
  },
  {
   "cell_type": "markdown",
   "id": "996ad613",
   "metadata": {},
   "source": [
    "Formateo\n"
   ]
  },
  {
   "cell_type": "code",
   "execution_count": 166,
   "id": "d3a2f4e2",
   "metadata": {},
   "outputs": [
    {
     "data": {
      "text/plain": [
       "'1 es el primer valor y 2 es el segundo'"
      ]
     },
     "execution_count": 166,
     "metadata": {},
     "output_type": "execute_result"
    }
   ],
   "source": [
    "'{} es el primer valor y {} es el segundo'.format(1,2)"
   ]
  },
  {
   "cell_type": "code",
   "execution_count": 168,
   "id": "5b4aa0bc",
   "metadata": {},
   "outputs": [
    {
     "data": {
      "text/plain": [
       "'en este caso alternamos el orden y el Dos aparece primero, luego el Uno'"
      ]
     },
     "execution_count": 168,
     "metadata": {},
     "output_type": "execute_result"
    }
   ],
   "source": [
    "\"en este caso alternamos el orden y el {1} aparece primero, luego el {0}\".format(\"Uno\",\"Dos\")"
   ]
  },
  {
   "cell_type": "code",
   "execution_count": 170,
   "id": "ef9db88e",
   "metadata": {},
   "outputs": [
    {
     "name": "stdout",
     "output_type": "stream",
     "text": [
      "El valr de la cartuja de parma es 0.7\n"
     ]
    }
   ],
   "source": [
    "nombre = \"la cartuja de parma\"\n",
    "\n",
    "x = .7\n",
    "\n",
    "print(f\"El valor de {nombre} es\", x)"
   ]
  },
  {
   "cell_type": "markdown",
   "id": "b3ec8241",
   "metadata": {},
   "source": [
    "Aplicando methods"
   ]
  },
  {
   "cell_type": "code",
   "execution_count": 171,
   "id": "6c752569",
   "metadata": {},
   "outputs": [
    {
     "name": "stdout",
     "output_type": "stream",
     "text": [
      "El valor de La Cartuja De Parma\n",
      " es 0.7 Dolares por el papel\n"
     ]
    }
   ],
   "source": [
    "print(f\"El valor de {nombre.title()}\\n es\", x, \"Dolares por el papel\") "
   ]
  },
  {
   "cell_type": "code",
   "execution_count": 172,
   "id": "42bb9767",
   "metadata": {},
   "outputs": [
    {
     "name": "stdout",
     "output_type": "stream",
     "text": [
      "{'uno': 0.7, 'dos': 10.7}\n"
     ]
    }
   ],
   "source": [
    "dictionary = {\"uno\": x, \"dos\": x.__add__(10)};\n",
    "print(dictionary)"
   ]
  },
  {
   "cell_type": "code",
   "execution_count": 182,
   "id": "870d920a",
   "metadata": {},
   "outputs": [],
   "source": [
    "#print(f\"{nombre.title()} cuesta {dictionary[\"uno\"]} pero\\n y el otr libro {dictionary[\"dos\"]} pesos.\")"
   ]
  },
  {
   "cell_type": "code",
   "execution_count": 185,
   "id": "3753cc49",
   "metadata": {},
   "outputs": [
    {
     "name": "stdout",
     "output_type": "stream",
     "text": [
      "El ordenador ha dicho hola al usuario Mario\n"
     ]
    }
   ],
   "source": [
    "a = \"hola\"\n",
    "b = \"Mario\"\n",
    "texto_resultante = \"El ordenador ha dicho {} al usuario {}\".format(a,b)\n",
    "print(texto_resultante)"
   ]
  },
  {
   "cell_type": "code",
   "execution_count": 187,
   "id": "46e55728",
   "metadata": {},
   "outputs": [
    {
     "name": "stdout",
     "output_type": "stream",
     "text": [
      "Cuantos años tienes: 25\n",
      "Cual es tu nombre: ce\n",
      "El usuario dice que tiene 25 años y se llama ce\n"
     ]
    }
   ],
   "source": [
    "respuesta = int(input(\"Cuantos años tienes: \"))\n",
    "respuesta2 = input(\"Cual es tu nombre: \")\n",
    "print(\"El usuario dice que tiene {} años y se llama {}\".format(respuesta,respuesta2))"
   ]
  },
  {
   "cell_type": "code",
   "execution_count": 188,
   "id": "699f1bf5",
   "metadata": {},
   "outputs": [
    {
     "name": "stdout",
     "output_type": "stream",
     "text": [
      "Hello Mario El canal. Esto es un saludo Adios!!!!\n"
     ]
    }
   ],
   "source": [
    "text =\"Hello {} {}. Esto es un saludo {}\"\n",
    "print(text.format(\"Mario\", \"El canal\", \"Adios!!!!\"))"
   ]
  },
  {
   "cell_type": "markdown",
   "id": "228e2a3d",
   "metadata": {},
   "source": [
    "Ejercicios \n",
    "1) Define una variable edad y asignarle un valor entero.\n",
    ">muestra su valor en pantalla.\n",
    ">defina otra variable edad_cadena que contenga el valor de edad como una cadena de caracteres.\n",
    ">comprueba el tipo de la nueava variable.\n",
    ">utiliza la variable edad que has definido previamente y calcula la edad que tendira esa persona en el año 2035\n"
   ]
  },
  {
   "cell_type": "code",
   "execution_count": 198,
   "id": "9d38084b",
   "metadata": {},
   "outputs": [
    {
     "name": "stdout",
     "output_type": "stream",
     "text": [
      "26\n"
     ]
    }
   ],
   "source": [
    "edad = 26\n",
    "print(edad)"
   ]
  },
  {
   "cell_type": "code",
   "execution_count": 200,
   "id": "63591b96",
   "metadata": {},
   "outputs": [
    {
     "data": {
      "text/plain": [
       "'26'"
      ]
     },
     "execution_count": 200,
     "metadata": {},
     "output_type": "execute_result"
    }
   ],
   "source": [
    "edad_cadena = str(edad)\n",
    "edad_cadena\n"
   ]
  },
  {
   "cell_type": "code",
   "execution_count": 201,
   "id": "6fcfa80e",
   "metadata": {},
   "outputs": [
    {
     "name": "stdout",
     "output_type": "stream",
     "text": [
      "<class 'str'>\n"
     ]
    }
   ],
   "source": [
    "print(type(edad_cadena))\n",
    "\n"
   ]
  },
  {
   "cell_type": "code",
   "execution_count": 203,
   "id": "cb5d4238",
   "metadata": {},
   "outputs": [
    {
     "name": "stdout",
     "output_type": "stream",
     "text": [
      "41\n"
     ]
    }
   ],
   "source": [
    "edad_futuro = (2035 - 2020) + edad\n",
    "print(edad_futuro)"
   ]
  },
  {
   "cell_type": "markdown",
   "id": "fb28d981",
   "metadata": {},
   "source": [
    "2 Al realizar una consulta en un registro hemos recibido unos valores corruptos.\n",
    "Al parecer enrega al nombre y apellido del alumuno al reves \n",
    "¿Qúe puedo hacer para obtener el siguiente mensaje por pantalla?\n",
    "NOMBRE APELLIDO  ha sacado un NOTA"
   ]
  },
  {
   "cell_type": "code",
   "execution_count": 204,
   "id": "57e14bbe",
   "metadata": {},
   "outputs": [],
   "source": [
    "cadena = \"azebaC ellehciM, 01\""
   ]
  },
  {
   "cell_type": "code",
   "execution_count": 207,
   "id": "7b9e3561",
   "metadata": {},
   "outputs": [
    {
     "data": {
      "text/plain": [
       "'10 ,Michelle Cabeza'"
      ]
     },
     "execution_count": 207,
     "metadata": {},
     "output_type": "execute_result"
    }
   ],
   "source": [
    "cadenaVol = cadena[::-1]\n",
    "cadenaVol\n"
   ]
  },
  {
   "cell_type": "code",
   "execution_count": 209,
   "id": "27b80f10",
   "metadata": {},
   "outputs": [
    {
     "name": "stdout",
     "output_type": "stream",
     "text": [
      "Michelle Cabeza ha sacado un  10\n"
     ]
    }
   ],
   "source": [
    "print(cadenaVol[4::], \"ha sacado un \", cadenaVol[:2])"
   ]
  },
  {
   "cell_type": "markdown",
   "id": "e15662e3",
   "metadata": {},
   "source": [
    "3 Utilizando operadores lógicos determina si \n",
    "una cadena de texto introducida por el usuario \n",
    "tiene una longitud mayor o igual a 3 y menor o igual a 12.\n",
    "(Basta con mostar True o False)"
   ]
  },
  {
   "cell_type": "code",
   "execution_count": 211,
   "id": "ce600b36",
   "metadata": {},
   "outputs": [
    {
     "name": "stdout",
     "output_type": "stream",
     "text": [
      "Escribe un texto: Esta cadena es mucho mayor\n",
      "¿la longitud de su texto es mayor o igual que 3 pero menor o igual que 12? \n",
      " False\n"
     ]
    }
   ],
   "source": [
    "cadena =input(\"Escribe un texto: \")\n",
    "\n",
    "print(\"¿la longitud de su texto es mayor o igual que 3 pero menor o igual que 12? \\n\", len(cadena) >=3 and len(cadena) <=12)"
   ]
  },
  {
   "cell_type": "markdown",
   "id": "90be6ba6",
   "metadata": {},
   "source": [
    "4 Realizar un programa que lea 2 numero por teclado y determine los siguientes aspectos ( es suficiente con mastrar TRue o False)"
   ]
  },
  {
   "cell_type": "code",
   "execution_count": 218,
   "id": "65759af4",
   "metadata": {},
   "outputs": [
    {
     "name": "stdout",
     "output_type": "stream",
     "text": [
      "Escribe el primer numero: 10\n",
      "Escribe el segundo numero: 12\n",
      "¿Los numeros son iguales?:  False\n",
      "¿los numeros son diferentes?:  True\n",
      "¿el primero numero es mayor que el segundo:  False\n",
      "¿el segundo es mayor o igual que el primero;  True\n"
     ]
    }
   ],
   "source": [
    "num1 = float(input(\"Escribe el primer numero: \"))\n",
    "num2 = float(input(\"Escribe el segundo numero: \"))\n",
    "\n",
    "print(\"¿Los numeros son iguales?: \", num1 == num2)\n",
    "print(\"¿los numeros son diferentes?: \", num1 != num2)\n",
    "print(\"¿el primero numero es mayor que el segundo: \", num1 > num2)\n",
    "print(\"¿el segundo es mayor o igual que el primero; \", num1 <= num2)\n",
    "\n"
   ]
  },
  {
   "cell_type": "markdown",
   "id": "9234c331",
   "metadata": {},
   "source": [
    "INDICES Y SLICING\n"
   ]
  },
  {
   "cell_type": "code",
   "execution_count": 221,
   "id": "9d34fed0",
   "metadata": {},
   "outputs": [
    {
     "name": "stdout",
     "output_type": "stream",
     "text": [
      "E S T A\n"
     ]
    }
   ],
   "source": [
    "text = \"ESTA CADENA\"\n",
    "print(text[0],\n",
    "      text[1],\n",
    "      text[2],\n",
    "      text[3])"
   ]
  },
  {
   "cell_type": "code",
   "execution_count": 224,
   "id": "24f74cae",
   "metadata": {},
   "outputs": [
    {
     "name": "stdout",
     "output_type": "stream",
     "text": [
      "C A D E N A\n"
     ]
    }
   ],
   "source": [
    "print(text[5],\n",
    "     text[6],\n",
    "     text[7],\n",
    "     text[8],\n",
    "     text[9],\n",
    "     text[10])"
   ]
  },
  {
   "cell_type": "code",
   "execution_count": 225,
   "id": "6e3bccc1",
   "metadata": {},
   "outputs": [
    {
     "name": "stdout",
     "output_type": "stream",
     "text": [
      "C A D E N A\n"
     ]
    }
   ],
   "source": [
    "print(text[-6],\n",
    "     text[-5],\n",
    "     text[-4],\n",
    "     text[-3],\n",
    "     text[-2],\n",
    "     text[-1])"
   ]
  },
  {
   "cell_type": "markdown",
   "id": "ca6438d7",
   "metadata": {},
   "source": [
    "SLICING"
   ]
  },
  {
   "cell_type": "code",
   "execution_count": 226,
   "id": "6a506cd5",
   "metadata": {},
   "outputs": [
    {
     "data": {
      "text/plain": [
       "'EST'"
      ]
     },
     "execution_count": 226,
     "metadata": {},
     "output_type": "execute_result"
    }
   ],
   "source": [
    "text[0:3]"
   ]
  },
  {
   "cell_type": "code",
   "execution_count": 227,
   "id": "754da731",
   "metadata": {},
   "outputs": [
    {
     "data": {
      "text/plain": [
       "''"
      ]
     },
     "execution_count": 227,
     "metadata": {},
     "output_type": "execute_result"
    }
   ],
   "source": [
    "text[-6:0]\n",
    "\n"
   ]
  },
  {
   "cell_type": "markdown",
   "id": "5e63a5f2",
   "metadata": {},
   "source": [
    "LISTAS"
   ]
  },
  {
   "cell_type": "code",
   "execution_count": 238,
   "id": "edaac8c0",
   "metadata": {},
   "outputs": [],
   "source": [
    "listaCompras = [\"Huevos\", \"Leche\", \"Queso\", \"Jabon\"]\n",
    "listaPrecio = [\"Huevos\", 1.5, \"Leche\",2, \"Queso\",3.5, \"Jabon\",5]\n",
    "\n"
   ]
  },
  {
   "cell_type": "code",
   "execution_count": 239,
   "id": "a5226e0f",
   "metadata": {},
   "outputs": [
    {
     "data": {
      "text/plain": [
       "list"
      ]
     },
     "execution_count": 239,
     "metadata": {},
     "output_type": "execute_result"
    }
   ],
   "source": [
    "type(listaCompras)"
   ]
  },
  {
   "cell_type": "code",
   "execution_count": 240,
   "id": "7defc556",
   "metadata": {},
   "outputs": [
    {
     "data": {
      "text/plain": [
       "['Huevos', 'Leche', 'Queso', 'Jabon']"
      ]
     },
     "execution_count": 240,
     "metadata": {},
     "output_type": "execute_result"
    }
   ],
   "source": [
    "listaCompras"
   ]
  },
  {
   "cell_type": "code",
   "execution_count": 243,
   "id": "ced11512",
   "metadata": {},
   "outputs": [
    {
     "name": "stdout",
     "output_type": "stream",
     "text": [
      "Los Huevos cuestan 1.5 \n",
      "la Leche cuesta 2\n"
     ]
    }
   ],
   "source": [
    "print(f\"\"\"Los {listaPrecio[0]} cuestan {listaPrecio[1]} \n",
    "la {listaPrecio[2]} cuesta {listaPrecio[3]}\"\"\")"
   ]
  },
  {
   "cell_type": "markdown",
   "id": "2cc763d0",
   "metadata": {},
   "source": [
    "MUTABILIDAD"
   ]
  },
  {
   "cell_type": "code",
   "execution_count": 247,
   "id": "0442db33",
   "metadata": {},
   "outputs": [
    {
     "name": "stdout",
     "output_type": "stream",
     "text": [
      "['Huevos', 0.9, 'Leche', 2, 'Queso', 3.5, 'Jabon', 5] los Huevos cuestan 0.9\n"
     ]
    }
   ],
   "source": [
    "listaPrecio[1] = 0.9\n",
    "print(f'''{listaPrecio} los {listaPrecio[0]} cuestan {listaPrecio[1]}''')"
   ]
  },
  {
   "cell_type": "markdown",
   "id": "74a4787f",
   "metadata": {},
   "source": [
    "METHODS"
   ]
  },
  {
   "cell_type": "code",
   "execution_count": 248,
   "id": "f728425b",
   "metadata": {},
   "outputs": [
    {
     "data": {
      "text/plain": [
       "range(0, 20, 2)"
      ]
     },
     "execution_count": 248,
     "metadata": {},
     "output_type": "execute_result"
    }
   ],
   "source": [
    "range(0,20,2)\n"
   ]
  },
  {
   "cell_type": "code",
   "execution_count": 250,
   "id": "048de0a9",
   "metadata": {},
   "outputs": [
    {
     "name": "stdout",
     "output_type": "stream",
     "text": [
      "range(0, 20, 2)\n",
      "[0, 2, 4, 6, 8, 10, 12, 14, 16, 18]\n"
     ]
    }
   ],
   "source": [
    "num = range(0,20,2)\n",
    "listNum = list(num)\n",
    "print(f\"\"\"{num}\n",
    "{listNum}\"\"\")"
   ]
  },
  {
   "cell_type": "markdown",
   "id": "9ec88438",
   "metadata": {},
   "source": [
    "Method append()"
   ]
  },
  {
   "cell_type": "code",
   "execution_count": 251,
   "id": "fca14b8a",
   "metadata": {},
   "outputs": [
    {
     "name": "stdout",
     "output_type": "stream",
     "text": [
      "[0, 2, 4, 6, 8, 10, 12, 14, 16, 18, 4]\n"
     ]
    }
   ],
   "source": [
    "listNum.append(4)\n",
    "print(listNum)"
   ]
  },
  {
   "cell_type": "code",
   "execution_count": 257,
   "id": "33d6f4cb",
   "metadata": {},
   "outputs": [
    {
     "data": {
      "text/plain": [
       "[0,\n",
       " 2,\n",
       " 4,\n",
       " 6,\n",
       " 8,\n",
       " 10,\n",
       " 12,\n",
       " 14,\n",
       " 16,\n",
       " 18,\n",
       " 4,\n",
       " 23,\n",
       " 66,\n",
       " 12,\n",
       " 35,\n",
       " 'hola',\n",
       " 'overtime',\n",
       " 'cygne']"
      ]
     },
     "execution_count": 257,
     "metadata": {},
     "output_type": "execute_result"
    }
   ],
   "source": [
    "listNum + [23, 66, 12, 35, 'hola', 'overtime', 'cygne']\n"
   ]
  },
  {
   "cell_type": "code",
   "execution_count": 258,
   "id": "9d25dfa8",
   "metadata": {},
   "outputs": [
    {
     "data": {
      "text/plain": [
       "[0, 2, 4, 6, 8, 23, 66, 12, 35, 'hola', 'overtime', 'cygne']"
      ]
     },
     "execution_count": 258,
     "metadata": {},
     "output_type": "execute_result"
    }
   ],
   "source": [
    "nuList =listNum[:5] + [23, 66, 12, 35, 'hola', 'overtime', 'cygne']\n",
    "nuList"
   ]
  },
  {
   "cell_type": "markdown",
   "id": "0c360ea7",
   "metadata": {},
   "source": [
    "FUNCION len()"
   ]
  },
  {
   "cell_type": "code",
   "execution_count": 259,
   "id": "f782872e",
   "metadata": {},
   "outputs": [
    {
     "data": {
      "text/plain": [
       "3"
      ]
     },
     "execution_count": 259,
     "metadata": {},
     "output_type": "execute_result"
    }
   ],
   "source": [
    "len([1,2,3])\n"
   ]
  },
  {
   "cell_type": "code",
   "execution_count": 260,
   "id": "f4a5d0a9",
   "metadata": {},
   "outputs": [
    {
     "data": {
      "text/plain": [
       "12"
      ]
     },
     "execution_count": 260,
     "metadata": {},
     "output_type": "execute_result"
    }
   ],
   "source": [
    "len(nuList)"
   ]
  },
  {
   "cell_type": "code",
   "execution_count": 261,
   "id": "f3725623",
   "metadata": {},
   "outputs": [
    {
     "data": {
      "text/plain": [
       "True"
      ]
     },
     "execution_count": 261,
     "metadata": {},
     "output_type": "execute_result"
    }
   ],
   "source": [
    "3 in [1,2,3]"
   ]
  },
  {
   "cell_type": "code",
   "execution_count": 262,
   "id": "fca10a16",
   "metadata": {},
   "outputs": [
    {
     "data": {
      "text/plain": [
       "True"
      ]
     },
     "execution_count": 262,
     "metadata": {},
     "output_type": "execute_result"
    }
   ],
   "source": [
    "\"hola\" in nuList"
   ]
  },
  {
   "cell_type": "code",
   "execution_count": 266,
   "id": "c9ba6d56",
   "metadata": {},
   "outputs": [
    {
     "data": {
      "text/plain": [
       "['platos', 14, 'libros', 'Teclados', 66, 12, 35, 'hola', 'overtime', 'cygne']"
      ]
     },
     "execution_count": 266,
     "metadata": {},
     "output_type": "execute_result"
    }
   ],
   "source": [
    "nuList[:4] = [\"platos\", 14, \"libros\", \"Teclados\"]\n",
    "nuList"
   ]
  },
  {
   "cell_type": "code",
   "execution_count": 267,
   "id": "0c1d9afc",
   "metadata": {},
   "outputs": [],
   "source": [
    "fila1 = [1,2,3]\n",
    "fila2 = [4,5,6]\n",
    "fila3 = [7,8,9]\n",
    "matriz= [fila1,fila2,fila3]"
   ]
  },
  {
   "cell_type": "code",
   "execution_count": 268,
   "id": "c819b59c",
   "metadata": {},
   "outputs": [
    {
     "data": {
      "text/plain": [
       "[[1, 2, 3], [4, 5, 6], [7, 8, 9]]"
      ]
     },
     "execution_count": 268,
     "metadata": {},
     "output_type": "execute_result"
    }
   ],
   "source": [
    "matriz"
   ]
  },
  {
   "cell_type": "code",
   "execution_count": 269,
   "id": "71a13530",
   "metadata": {},
   "outputs": [
    {
     "data": {
      "text/plain": [
       "[1, 2, 3]"
      ]
     },
     "execution_count": 269,
     "metadata": {},
     "output_type": "execute_result"
    }
   ],
   "source": [
    "matriz[0]"
   ]
  },
  {
   "cell_type": "code",
   "execution_count": 271,
   "id": "246503a6",
   "metadata": {},
   "outputs": [
    {
     "data": {
      "text/plain": [
       "True"
      ]
     },
     "execution_count": 271,
     "metadata": {},
     "output_type": "execute_result"
    }
   ],
   "source": [
    "matriz[0] == fila1"
   ]
  },
  {
   "cell_type": "code",
   "execution_count": 274,
   "id": "7f434d90",
   "metadata": {},
   "outputs": [
    {
     "data": {
      "text/plain": [
       "4"
      ]
     },
     "execution_count": 274,
     "metadata": {},
     "output_type": "execute_result"
    }
   ],
   "source": [
    "matriz[1][0]"
   ]
  },
  {
   "cell_type": "code",
   "execution_count": null,
   "id": "247683e8",
   "metadata": {},
   "outputs": [],
   "source": []
  }
 ],
 "metadata": {
  "kernelspec": {
   "display_name": "Python 3 (ipykernel)",
   "language": "python",
   "name": "python3"
  },
  "language_info": {
   "codemirror_mode": {
    "name": "ipython",
    "version": 3
   },
   "file_extension": ".py",
   "mimetype": "text/x-python",
   "name": "python",
   "nbconvert_exporter": "python",
   "pygments_lexer": "ipython3",
   "version": "3.9.13"
  }
 },
 "nbformat": 4,
 "nbformat_minor": 5
}
