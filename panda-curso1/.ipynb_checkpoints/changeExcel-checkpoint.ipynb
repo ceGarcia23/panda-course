{
 "cells": [
  {
   "cell_type": "code",
   "execution_count": 2,
   "id": "bbaf7f11",
   "metadata": {},
   "outputs": [],
   "source": [
    "import pandas as pd"
   ]
  },
  {
   "cell_type": "code",
   "execution_count": 3,
   "id": "e2146550",
   "metadata": {},
   "outputs": [],
   "source": [
    "# Change example using pd.read_csv\n",
    "# df = pd.read_csv(\"archive/estudiantes.csv\") "
   ]
  },
  {
   "cell_type": "code",
   "execution_count": 4,
   "id": "01c976f1",
   "metadata": {},
   "outputs": [],
   "source": [
    "# df"
   ]
  },
  {
   "cell_type": "code",
   "execution_count": 5,
   "id": "d01a8a46",
   "metadata": {},
   "outputs": [],
   "source": [
    "# print(df)"
   ]
  },
  {
   "cell_type": "code",
   "execution_count": 6,
   "id": "f8cf5eca",
   "metadata": {},
   "outputs": [],
   "source": [
    "convert= pd.read_excel(\"archive/estudiantes.xlsx\")"
   ]
  },
  {
   "cell_type": "code",
   "execution_count": 11,
   "id": "b9f91986",
   "metadata": {},
   "outputs": [],
   "source": [
    "convert.to_csv(\"archive/estudiantes.csv\", index=None, header=True)"
   ]
  },
  {
   "cell_type": "code",
   "execution_count": 12,
   "id": "783fc640",
   "metadata": {},
   "outputs": [],
   "source": [
    "# The creation of another file called test Change was made, where the converted file is called students.csv"
   ]
  },
  {
   "cell_type": "code",
   "execution_count": null,
   "id": "d9e47e46",
   "metadata": {},
   "outputs": [],
   "source": []
  },
  {
   "cell_type": "code",
   "execution_count": null,
   "id": "255e0567",
   "metadata": {},
   "outputs": [],
   "source": []
  },
  {
   "cell_type": "code",
   "execution_count": null,
   "id": "3ebe25aa",
   "metadata": {},
   "outputs": [],
   "source": []
  }
 ],
 "metadata": {
  "kernelspec": {
   "display_name": "Python 3 (ipykernel)",
   "language": "python",
   "name": "python3"
  },
  "language_info": {
   "codemirror_mode": {
    "name": "ipython",
    "version": 3
   },
   "file_extension": ".py",
   "mimetype": "text/x-python",
   "name": "python",
   "nbconvert_exporter": "python",
   "pygments_lexer": "ipython3",
   "version": "3.11.0"
  }
 },
 "nbformat": 4,
 "nbformat_minor": 5
}
