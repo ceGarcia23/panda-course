{
 "cells": [
  {
   "cell_type": "code",
   "execution_count": 5,
   "id": "c470c128",
   "metadata": {},
   "outputs": [],
   "source": [
    "import pandas as pd"
   ]
  },
  {
   "cell_type": "code",
   "execution_count": 6,
   "id": "5b8ddcbf",
   "metadata": {},
   "outputs": [],
   "source": [
    "df = pd.read_csv(\"estudiantes.csv\")"
   ]
  },
  {
   "cell_type": "code",
   "execution_count": 7,
   "id": "975ccc1e",
   "metadata": {},
   "outputs": [
    {
     "data": {
      "text/html": [
       "<div>\n",
       "<style scoped>\n",
       "    .dataframe tbody tr th:only-of-type {\n",
       "        vertical-align: middle;\n",
       "    }\n",
       "\n",
       "    .dataframe tbody tr th {\n",
       "        vertical-align: top;\n",
       "    }\n",
       "\n",
       "    .dataframe thead th {\n",
       "        text-align: right;\n",
       "    }\n",
       "</style>\n",
       "<table border=\"1\" class=\"dataframe\">\n",
       "  <thead>\n",
       "    <tr style=\"text-align: right;\">\n",
       "      <th></th>\n",
       "      <th>NOMBRE</th>\n",
       "      <th>EDAD</th>\n",
       "      <th>GENERO</th>\n",
       "      <th>CARRERA</th>\n",
       "      <th>SEMESTRE</th>\n",
       "    </tr>\n",
       "  </thead>\n",
       "  <tbody>\n",
       "    <tr>\n",
       "      <th>0</th>\n",
       "      <td>Victor</td>\n",
       "      <td>28</td>\n",
       "      <td>M</td>\n",
       "      <td>Auditoria</td>\n",
       "      <td>Primer</td>\n",
       "    </tr>\n",
       "    <tr>\n",
       "      <th>1</th>\n",
       "      <td>Josefa</td>\n",
       "      <td>23</td>\n",
       "      <td>F</td>\n",
       "      <td>Informatica</td>\n",
       "      <td>Primer</td>\n",
       "    </tr>\n",
       "    <tr>\n",
       "      <th>2</th>\n",
       "      <td>Raul</td>\n",
       "      <td>26</td>\n",
       "      <td>M</td>\n",
       "      <td>Derecho</td>\n",
       "      <td>Quinto</td>\n",
       "    </tr>\n",
       "    <tr>\n",
       "      <th>3</th>\n",
       "      <td>Mariana</td>\n",
       "      <td>27</td>\n",
       "      <td>F</td>\n",
       "      <td>Informatica</td>\n",
       "      <td>Septimo</td>\n",
       "    </tr>\n",
       "    <tr>\n",
       "      <th>4</th>\n",
       "      <td>Rodrigo</td>\n",
       "      <td>22</td>\n",
       "      <td>M</td>\n",
       "      <td>Derecho</td>\n",
       "      <td>Tercero</td>\n",
       "    </tr>\n",
       "    <tr>\n",
       "      <th>5</th>\n",
       "      <td>Gustavo</td>\n",
       "      <td>25</td>\n",
       "      <td>M</td>\n",
       "      <td>Arquitectura</td>\n",
       "      <td>Septimo</td>\n",
       "    </tr>\n",
       "    <tr>\n",
       "      <th>6</th>\n",
       "      <td>Lucy</td>\n",
       "      <td>23</td>\n",
       "      <td>F</td>\n",
       "      <td>Informatica</td>\n",
       "      <td>Primer</td>\n",
       "    </tr>\n",
       "    <tr>\n",
       "      <th>7</th>\n",
       "      <td>Sofia</td>\n",
       "      <td>24</td>\n",
       "      <td>F</td>\n",
       "      <td>Economia</td>\n",
       "      <td>Noveno</td>\n",
       "    </tr>\n",
       "  </tbody>\n",
       "</table>\n",
       "</div>"
      ],
      "text/plain": [
       "    NOMBRE  EDAD GENERO       CARRERA SEMESTRE\n",
       "0   Victor    28      M     Auditoria   Primer\n",
       "1   Josefa    23      F   Informatica   Primer\n",
       "2     Raul    26      M       Derecho   Quinto\n",
       "3  Mariana    27      F   Informatica  Septimo\n",
       "4  Rodrigo    22      M       Derecho  Tercero\n",
       "5  Gustavo    25      M  Arquitectura  Septimo\n",
       "6     Lucy    23      F   Informatica   Primer\n",
       "7    Sofia    24      F      Economia   Noveno"
      ]
     },
     "execution_count": 7,
     "metadata": {},
     "output_type": "execute_result"
    }
   ],
   "source": [
    "df"
   ]
  },
  {
   "cell_type": "code",
   "execution_count": 8,
   "id": "2592b2a2",
   "metadata": {},
   "outputs": [
    {
     "data": {
      "text/plain": [
       "'Informatica'"
      ]
     },
     "execution_count": 8,
     "metadata": {},
     "output_type": "execute_result"
    }
   ],
   "source": [
    "df.iloc[1,3]"
   ]
  },
  {
   "cell_type": "code",
   "execution_count": 10,
   "id": "8cc1a25f",
   "metadata": {},
   "outputs": [
    {
     "data": {
      "text/plain": [
       "NOMBRE    Raul\n",
       "EDAD        26\n",
       "GENERO       M\n",
       "Name: 2, dtype: object"
      ]
     },
     "execution_count": 10,
     "metadata": {},
     "output_type": "execute_result"
    }
   ],
   "source": [
    "df.iloc[2,:3]"
   ]
  },
  {
   "cell_type": "code",
   "execution_count": 11,
   "id": "95c8c7df",
   "metadata": {},
   "outputs": [
    {
     "data": {
      "text/plain": [
       "'Primer'"
      ]
     },
     "execution_count": 11,
     "metadata": {},
     "output_type": "execute_result"
    }
   ],
   "source": [
    "df.loc[1,\"SEMESTRE\"]"
   ]
  },
  {
   "cell_type": "code",
   "execution_count": 15,
   "id": "85406536",
   "metadata": {},
   "outputs": [
    {
     "data": {
      "text/plain": [
       "23"
      ]
     },
     "execution_count": 15,
     "metadata": {},
     "output_type": "execute_result"
    }
   ],
   "source": [
    "df.loc[1,\"EDAD\"]"
   ]
  },
  {
   "cell_type": "code",
   "execution_count": null,
   "id": "188a280d",
   "metadata": {},
   "outputs": [],
   "source": []
  }
 ],
 "metadata": {
  "kernelspec": {
   "display_name": "Python 3 (ipykernel)",
   "language": "python",
   "name": "python3"
  },
  "language_info": {
   "codemirror_mode": {
    "name": "ipython",
    "version": 3
   },
   "file_extension": ".py",
   "mimetype": "text/x-python",
   "name": "python",
   "nbconvert_exporter": "python",
   "pygments_lexer": "ipython3",
   "version": "3.11.0"
  }
 },
 "nbformat": 4,
 "nbformat_minor": 5
}
