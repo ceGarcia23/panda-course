{
 "cells": [
  {
   "cell_type": "code",
   "execution_count": 45,
   "id": "ec5ae1d1",
   "metadata": {},
   "outputs": [],
   "source": [
    "import pandas as pd\n",
    "import numpy as np"
   ]
  },
  {
   "cell_type": "code",
   "execution_count": 46,
   "id": "7c1b820f",
   "metadata": {},
   "outputs": [],
   "source": [
    "data = {\n",
    "    \"NOMBRE\": [\"Maria\", \"Jose\", \"David\", \"Ivan\"],\n",
    "    \"CAREER\": [\"Auditoria\", \"Informatica\", \"Derecho\", \"Idiomas\"],\n",
    "    \"EMAIL\": [\"maria@gmail.com\", \"jose@gmail.com\", \"david@gmail.com\", \"ivan@gmail.com\"]\n",
    "}"
   ]
  },
  {
   "cell_type": "code",
   "execution_count": 47,
   "id": "8957665a",
   "metadata": {},
   "outputs": [],
   "source": [
    "df = pd.DataFrame(data)"
   ]
  },
  {
   "cell_type": "code",
   "execution_count": 48,
   "id": "6ffbf26c",
   "metadata": {},
   "outputs": [
    {
     "name": "stdout",
     "output_type": "stream",
     "text": [
      "  NOMBRE       CAREER            EMAIL\n",
      "0  Maria    Auditoria  maria@gmail.com\n",
      "1   Jose  Informatica   jose@gmail.com\n",
      "2  David      Derecho  david@gmail.com\n",
      "3   Ivan      Idiomas   ivan@gmail.com\n"
     ]
    }
   ],
   "source": [
    "print(df)"
   ]
  },
  {
   "cell_type": "code",
   "execution_count": 49,
   "id": "f5429f3e",
   "metadata": {},
   "outputs": [],
   "source": [
    "data = {\n",
    "    \"calories\": [\"420\", \"380\", \"390\"],\n",
    "    \"duration\": [\"50\", \"40\", \"45\"]\n",
    "}"
   ]
  },
  {
   "cell_type": "code",
   "execution_count": 50,
   "id": "bdeb868f",
   "metadata": {},
   "outputs": [],
   "source": [
    "df = pd.DataFrame(data)"
   ]
  },
  {
   "cell_type": "code",
   "execution_count": 51,
   "id": "a4977bcc",
   "metadata": {},
   "outputs": [
    {
     "name": "stdout",
     "output_type": "stream",
     "text": [
      "  calories duration\n",
      "0      420       50\n",
      "1      380       40\n",
      "2      390       45\n"
     ]
    }
   ],
   "source": [
    "print(df)"
   ]
  },
  {
   "cell_type": "code",
   "execution_count": 52,
   "id": "f84e9694",
   "metadata": {},
   "outputs": [],
   "source": [
    "df = pd.DataFrame([[\"Maria\", 27], [\"David\", 34], [\"Ana\",18], [\"Jose\",17]], \n",
    "                  columns = [\"NOMBRE\", \"EDAD\"])\n",
    "\n"
   ]
  },
  {
   "cell_type": "code",
   "execution_count": 53,
   "id": "c6310b5b",
   "metadata": {},
   "outputs": [
    {
     "name": "stdout",
     "output_type": "stream",
     "text": [
      "  NOMBRE  EDAD\n",
      "0  Maria    27\n",
      "1  David    34\n",
      "2    Ana    18\n",
      "3   Jose    17\n"
     ]
    }
   ],
   "source": [
    "print(df)"
   ]
  },
  {
   "cell_type": "code",
   "execution_count": 57,
   "id": "66b9276c",
   "metadata": {},
   "outputs": [],
   "source": [
    "df = pd.DataFrame(np.random.randn(4,3), columns=[\"a\", \"b\", \"c\"])"
   ]
  },
  {
   "cell_type": "code",
   "execution_count": 58,
   "id": "e6595bfa",
   "metadata": {},
   "outputs": [
    {
     "name": "stdout",
     "output_type": "stream",
     "text": [
      "          a         b         c\n",
      "0  2.200937 -0.536902  1.515451\n",
      "1  0.265852  0.810109  1.881280\n",
      "2  0.393868  0.740654 -0.689643\n",
      "3  2.190221  0.300188 -1.697681\n"
     ]
    }
   ],
   "source": [
    "print(df)"
   ]
  },
  {
   "cell_type": "code",
   "execution_count": null,
   "id": "7f1bb485",
   "metadata": {},
   "outputs": [],
   "source": []
  }
 ],
 "metadata": {
  "kernelspec": {
   "display_name": "Python 3 (ipykernel)",
   "language": "python",
   "name": "python3"
  },
  "language_info": {
   "codemirror_mode": {
    "name": "ipython",
    "version": 3
   },
   "file_extension": ".py",
   "mimetype": "text/x-python",
   "name": "python",
   "nbconvert_exporter": "python",
   "pygments_lexer": "ipython3",
   "version": "3.9.13"
  }
 },
 "nbformat": 4,
 "nbformat_minor": 5
}
